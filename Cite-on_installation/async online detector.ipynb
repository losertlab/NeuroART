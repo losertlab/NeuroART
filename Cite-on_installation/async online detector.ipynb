{
 "cells": [
  {
   "cell_type": "code",
   "execution_count": null,
   "metadata": {},
   "outputs": [],
   "source": [
    "from cite_on import *\n",
    "import numpy as np\n",
    "from tqdm import tqdm"
   ]
  },
  {
   "cell_type": "code",
   "execution_count": null,
   "metadata": {},
   "outputs": [],
   "source": [
    "data=utils.TSeries('/home/luca/Desktop/501271265_5000.tif',buffer=50,kind='step')\n",
    "detector=AsyncDetector('wheights/',2,0.8,'0',(512,512))\n",
    "tracker=Tracker()\n",
    "extractor=Extractor(workers=46)"
   ]
  },
  {
   "cell_type": "code",
   "execution_count": null,
   "metadata": {
    "scrolled": false
   },
   "outputs": [],
   "source": [
    "with detector.startup_lock:\n",
    "    temp_boxes=[]\n",
    "    with tqdm(total=len(data)) as pbar:\n",
    "        for _ in range(len(data)):\n",
    "            frame, proj = data.read()\n",
    "            if not detector.out_queue.empty():\n",
    "                boxes=detector.out_queue.get()\n",
    "                tracker.update(boxes, True)\n",
    "                temp_boxes=tracker.get_positions()\n",
    "                pbar.set_postfix(**{'IDs':len(temp_boxes)})\n",
    "            if proj is not None:\n",
    "                detector.in_queue.put(proj)\n",
    "            extractor.extract(frame, temp_boxes)\n",
    "            pbar.update(1)\n",
    "        pbar.close()\n",
    "boxes=tracker.get_positions()\n",
    "traces=extractor.get_traces()"
   ]
  }
 ],
 "metadata": {
  "kernelspec": {
   "display_name": "Python 3",
   "language": "python",
   "name": "python3"
  },
  "language_info": {
   "codemirror_mode": {
    "name": "ipython",
    "version": 3
   },
   "file_extension": ".py",
   "mimetype": "text/x-python",
   "name": "python",
   "nbconvert_exporter": "python",
   "pygments_lexer": "ipython3",
   "version": "3.6.9"
  }
 },
 "nbformat": 4,
 "nbformat_minor": 2
}
